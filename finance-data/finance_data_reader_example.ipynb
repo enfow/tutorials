{
 "cells": [
  {
   "cell_type": "markdown",
   "id": "671db9de-6aea-4047-ba82-1667f0c946dd",
   "metadata": {},
   "source": [
    "# FinanceDataReader\n",
    "\n",
    "- https://financedata.github.io/posts/finance-data-reader-users-guide.html#disqus_thread"
   ]
  },
  {
   "cell_type": "markdown",
   "id": "15eeedf9-9dd4-4f57-835c-80a835ecec28",
   "metadata": {},
   "source": [
    "## Usage"
   ]
  },
  {
   "cell_type": "code",
   "execution_count": 1,
   "id": "68335426-be53-4679-9a09-ec1382943775",
   "metadata": {},
   "outputs": [],
   "source": [
    "import FinanceDataReader as fdr\n",
    "import matplotlib.pyplot as plt\n",
    "import pandas as pd"
   ]
  },
  {
   "cell_type": "code",
   "execution_count": 2,
   "id": "a22cd517-035d-4ebc-a02f-aba58a0ee950",
   "metadata": {},
   "outputs": [],
   "source": [
    "plt.rcParams[\"font.family\"] = 'nanummyeongjo'\n",
    "plt.rcParams[\"figure.figsize\"] = (14,4)\n",
    "plt.rcParams['lines.linewidth'] = 2\n",
    "plt.rcParams[\"axes.grid\"] = True"
   ]
  },
  {
   "cell_type": "markdown",
   "id": "35ffdd0f-b29b-4417-8ab3-44db0ec3ddea",
   "metadata": {},
   "source": [
    "### Get name"
   ]
  },
  {
   "cell_type": "code",
   "execution_count": 3,
   "id": "5bc78b3f-8ae5-4970-b11e-cdae2980d7c7",
   "metadata": {},
   "outputs": [
    {
     "data": {
      "text/html": [
       "<div>\n",
       "<style scoped>\n",
       "    .dataframe tbody tr th:only-of-type {\n",
       "        vertical-align: middle;\n",
       "    }\n",
       "\n",
       "    .dataframe tbody tr th {\n",
       "        vertical-align: top;\n",
       "    }\n",
       "\n",
       "    .dataframe thead th {\n",
       "        text-align: right;\n",
       "    }\n",
       "</style>\n",
       "<table border=\"1\" class=\"dataframe\">\n",
       "  <thead>\n",
       "    <tr style=\"text-align: right;\">\n",
       "      <th></th>\n",
       "      <th>Symbol</th>\n",
       "      <th>Market</th>\n",
       "      <th>Name</th>\n",
       "      <th>Sector</th>\n",
       "      <th>Industry</th>\n",
       "      <th>ListingDate</th>\n",
       "      <th>SettleMonth</th>\n",
       "      <th>Representative</th>\n",
       "      <th>HomePage</th>\n",
       "      <th>Region</th>\n",
       "    </tr>\n",
       "  </thead>\n",
       "  <tbody>\n",
       "    <tr>\n",
       "      <th>0</th>\n",
       "      <td>060310</td>\n",
       "      <td>KOSDAQ</td>\n",
       "      <td>3S</td>\n",
       "      <td>전자부품 제조업</td>\n",
       "      <td>반도체 웨이퍼 캐리어</td>\n",
       "      <td>2002-04-23</td>\n",
       "      <td>03월</td>\n",
       "      <td>박종익, 김세완 (각자 대표이사)</td>\n",
       "      <td>http://www.3sref.com</td>\n",
       "      <td>서울특별시</td>\n",
       "    </tr>\n",
       "    <tr>\n",
       "      <th>1</th>\n",
       "      <td>095570</td>\n",
       "      <td>KOSPI</td>\n",
       "      <td>AJ네트웍스</td>\n",
       "      <td>산업용 기계 및 장비 임대업</td>\n",
       "      <td>렌탈(파렛트, OA장비, 건설장비)</td>\n",
       "      <td>2015-08-21</td>\n",
       "      <td>12월</td>\n",
       "      <td>박대현</td>\n",
       "      <td>http://www.ajnet.co.kr</td>\n",
       "      <td>서울특별시</td>\n",
       "    </tr>\n",
       "    <tr>\n",
       "      <th>2</th>\n",
       "      <td>006840</td>\n",
       "      <td>KOSPI</td>\n",
       "      <td>AK홀딩스</td>\n",
       "      <td>기타 금융업</td>\n",
       "      <td>지주사업</td>\n",
       "      <td>1999-08-11</td>\n",
       "      <td>12월</td>\n",
       "      <td>채형석, 이석주(각자 대표이사)</td>\n",
       "      <td>http://www.aekyunggroup.co.kr</td>\n",
       "      <td>서울특별시</td>\n",
       "    </tr>\n",
       "    <tr>\n",
       "      <th>3</th>\n",
       "      <td>054620</td>\n",
       "      <td>KOSDAQ</td>\n",
       "      <td>APS홀딩스</td>\n",
       "      <td>기타 금융업</td>\n",
       "      <td>인터넷 트래픽 솔루션</td>\n",
       "      <td>2001-12-04</td>\n",
       "      <td>12월</td>\n",
       "      <td>정기로</td>\n",
       "      <td>http://www.apsholdings.co.kr</td>\n",
       "      <td>경기도</td>\n",
       "    </tr>\n",
       "    <tr>\n",
       "      <th>4</th>\n",
       "      <td>265520</td>\n",
       "      <td>KOSDAQ</td>\n",
       "      <td>AP시스템</td>\n",
       "      <td>특수 목적용 기계 제조업</td>\n",
       "      <td>디스플레이 제조 장비</td>\n",
       "      <td>2017-04-07</td>\n",
       "      <td>12월</td>\n",
       "      <td>김영주</td>\n",
       "      <td>http://www.apsystems.co.kr</td>\n",
       "      <td>경기도</td>\n",
       "    </tr>\n",
       "  </tbody>\n",
       "</table>\n",
       "</div>"
      ],
      "text/plain": [
       "   Symbol  Market    Name           Sector             Industry ListingDate  \\\n",
       "0  060310  KOSDAQ      3S         전자부품 제조업          반도체 웨이퍼 캐리어  2002-04-23   \n",
       "1  095570   KOSPI  AJ네트웍스  산업용 기계 및 장비 임대업  렌탈(파렛트, OA장비, 건설장비)  2015-08-21   \n",
       "2  006840   KOSPI   AK홀딩스           기타 금융업                 지주사업  1999-08-11   \n",
       "3  054620  KOSDAQ  APS홀딩스           기타 금융업          인터넷 트래픽 솔루션  2001-12-04   \n",
       "4  265520  KOSDAQ   AP시스템    특수 목적용 기계 제조업          디스플레이 제조 장비  2017-04-07   \n",
       "\n",
       "  SettleMonth      Representative                       HomePage Region  \n",
       "0         03월  박종익, 김세완 (각자 대표이사)           http://www.3sref.com  서울특별시  \n",
       "1         12월                 박대현         http://www.ajnet.co.kr  서울특별시  \n",
       "2         12월   채형석, 이석주(각자 대표이사)  http://www.aekyunggroup.co.kr  서울특별시  \n",
       "3         12월                 정기로   http://www.apsholdings.co.kr    경기도  \n",
       "4         12월                 김영주     http://www.apsystems.co.kr    경기도  "
      ]
     },
     "execution_count": 3,
     "metadata": {},
     "output_type": "execute_result"
    }
   ],
   "source": [
    "# 한국거래소 상장종목 전체\n",
    "df_krx = fdr.StockListing('KRX')\n",
    "df_krx.head()\n"
   ]
  },
  {
   "cell_type": "markdown",
   "id": "2fc9af57-775f-4090-b27d-597ca364e76a",
   "metadata": {},
   "source": [
    "### Get KOSPI data"
   ]
  },
  {
   "cell_type": "code",
   "execution_count": 4,
   "id": "cb20eaf8-eef9-4f03-9190-2c060b49b285",
   "metadata": {},
   "outputs": [
    {
     "data": {
      "text/html": [
       "<div>\n",
       "<style scoped>\n",
       "    .dataframe tbody tr th:only-of-type {\n",
       "        vertical-align: middle;\n",
       "    }\n",
       "\n",
       "    .dataframe tbody tr th {\n",
       "        vertical-align: top;\n",
       "    }\n",
       "\n",
       "    .dataframe thead th {\n",
       "        text-align: right;\n",
       "    }\n",
       "</style>\n",
       "<table border=\"1\" class=\"dataframe\">\n",
       "  <thead>\n",
       "    <tr style=\"text-align: right;\">\n",
       "      <th></th>\n",
       "      <th>Close</th>\n",
       "      <th>Open</th>\n",
       "      <th>High</th>\n",
       "      <th>Low</th>\n",
       "      <th>Volume</th>\n",
       "      <th>Change</th>\n",
       "    </tr>\n",
       "    <tr>\n",
       "      <th>Date</th>\n",
       "      <th></th>\n",
       "      <th></th>\n",
       "      <th></th>\n",
       "      <th></th>\n",
       "      <th></th>\n",
       "      <th></th>\n",
       "    </tr>\n",
       "  </thead>\n",
       "  <tbody>\n",
       "    <tr>\n",
       "      <th>1981-05-01</th>\n",
       "      <td>123.6</td>\n",
       "      <td>123.6</td>\n",
       "      <td>123.6</td>\n",
       "      <td>123.6</td>\n",
       "      <td>3330000.0</td>\n",
       "      <td>0.0098</td>\n",
       "    </tr>\n",
       "    <tr>\n",
       "      <th>1981-05-02</th>\n",
       "      <td>123.5</td>\n",
       "      <td>123.5</td>\n",
       "      <td>123.5</td>\n",
       "      <td>123.5</td>\n",
       "      <td>2040000.0</td>\n",
       "      <td>-0.0008</td>\n",
       "    </tr>\n",
       "    <tr>\n",
       "      <th>1981-05-04</th>\n",
       "      <td>120.6</td>\n",
       "      <td>120.6</td>\n",
       "      <td>120.6</td>\n",
       "      <td>120.6</td>\n",
       "      <td>1930000.0</td>\n",
       "      <td>-0.0235</td>\n",
       "    </tr>\n",
       "    <tr>\n",
       "      <th>1981-05-06</th>\n",
       "      <td>120.7</td>\n",
       "      <td>120.7</td>\n",
       "      <td>120.7</td>\n",
       "      <td>120.7</td>\n",
       "      <td>1690000.0</td>\n",
       "      <td>0.0008</td>\n",
       "    </tr>\n",
       "    <tr>\n",
       "      <th>1981-05-07</th>\n",
       "      <td>119.3</td>\n",
       "      <td>119.3</td>\n",
       "      <td>119.3</td>\n",
       "      <td>119.3</td>\n",
       "      <td>1480000.0</td>\n",
       "      <td>-0.0116</td>\n",
       "    </tr>\n",
       "    <tr>\n",
       "      <th>1981-05-08</th>\n",
       "      <td>118.7</td>\n",
       "      <td>118.7</td>\n",
       "      <td>118.7</td>\n",
       "      <td>118.7</td>\n",
       "      <td>1090000.0</td>\n",
       "      <td>-0.0050</td>\n",
       "    </tr>\n",
       "    <tr>\n",
       "      <th>1981-05-09</th>\n",
       "      <td>118.8</td>\n",
       "      <td>118.8</td>\n",
       "      <td>118.8</td>\n",
       "      <td>118.8</td>\n",
       "      <td>598000.0</td>\n",
       "      <td>0.0008</td>\n",
       "    </tr>\n",
       "    <tr>\n",
       "      <th>1981-05-12</th>\n",
       "      <td>118.8</td>\n",
       "      <td>118.8</td>\n",
       "      <td>118.8</td>\n",
       "      <td>118.8</td>\n",
       "      <td>543000.0</td>\n",
       "      <td>0.0000</td>\n",
       "    </tr>\n",
       "    <tr>\n",
       "      <th>1981-05-13</th>\n",
       "      <td>119.9</td>\n",
       "      <td>119.9</td>\n",
       "      <td>119.9</td>\n",
       "      <td>119.9</td>\n",
       "      <td>858000.0</td>\n",
       "      <td>0.0093</td>\n",
       "    </tr>\n",
       "    <tr>\n",
       "      <th>1981-05-14</th>\n",
       "      <td>121.5</td>\n",
       "      <td>121.5</td>\n",
       "      <td>121.5</td>\n",
       "      <td>121.5</td>\n",
       "      <td>1180000.0</td>\n",
       "      <td>0.0133</td>\n",
       "    </tr>\n",
       "  </tbody>\n",
       "</table>\n",
       "</div>"
      ],
      "text/plain": [
       "            Close   Open   High    Low     Volume  Change\n",
       "Date                                                     \n",
       "1981-05-01  123.6  123.6  123.6  123.6  3330000.0  0.0098\n",
       "1981-05-02  123.5  123.5  123.5  123.5  2040000.0 -0.0008\n",
       "1981-05-04  120.6  120.6  120.6  120.6  1930000.0 -0.0235\n",
       "1981-05-06  120.7  120.7  120.7  120.7  1690000.0  0.0008\n",
       "1981-05-07  119.3  119.3  119.3  119.3  1480000.0 -0.0116\n",
       "1981-05-08  118.7  118.7  118.7  118.7  1090000.0 -0.0050\n",
       "1981-05-09  118.8  118.8  118.8  118.8   598000.0  0.0008\n",
       "1981-05-12  118.8  118.8  118.8  118.8   543000.0  0.0000\n",
       "1981-05-13  119.9  119.9  119.9  119.9   858000.0  0.0093\n",
       "1981-05-14  121.5  121.5  121.5  121.5  1180000.0  0.0133"
      ]
     },
     "execution_count": 4,
     "metadata": {},
     "output_type": "execute_result"
    }
   ],
   "source": [
    "df = fdr.DataReader('KS11')\n",
    "df.head(10)"
   ]
  },
  {
   "cell_type": "code",
   "execution_count": 5,
   "id": "9c577c52-cac4-410b-a476-f11e8ab74d58",
   "metadata": {},
   "outputs": [
    {
     "data": {
      "text/plain": [
       "<AxesSubplot:xlabel='Date'>"
      ]
     },
     "execution_count": 5,
     "metadata": {},
     "output_type": "execute_result"
    },
    {
     "name": "stderr",
     "output_type": "stream",
     "text": [
      "findfont: Font family ['nanummyeongjo'] not found. Falling back to DejaVu Sans.\n"
     ]
    },
    {
     "data": {
      "image/png": "[encoded data removed]",
      "text/plain": [
       "<Figure size 1008x288 with 1 Axes>"
      ]
     },
     "metadata": {
      "needs_background": "light"
     },
     "output_type": "display_data"
    }
   ],
   "source": [
    "df[\"Open\"].plot()"
   ]
  },
  {
   "cell_type": "markdown",
   "id": "6125faf2-f52c-4ccd-abb9-f3498f8cbb68",
   "metadata": {},
   "source": [
    "### Get IVV data after 2021.01.01"
   ]
  },
  {
   "cell_type": "code",
   "execution_count": 6,
   "id": "0bca43c0-458f-4c89-9d91-df18972aef96",
   "metadata": {},
   "outputs": [
    {
     "data": {
      "text/html": [
       "<div>\n",
       "<style scoped>\n",
       "    .dataframe tbody tr th:only-of-type {\n",
       "        vertical-align: middle;\n",
       "    }\n",
       "\n",
       "    .dataframe tbody tr th {\n",
       "        vertical-align: top;\n",
       "    }\n",
       "\n",
       "    .dataframe thead th {\n",
       "        text-align: right;\n",
       "    }\n",
       "</style>\n",
       "<table border=\"1\" class=\"dataframe\">\n",
       "  <thead>\n",
       "    <tr style=\"text-align: right;\">\n",
       "      <th></th>\n",
       "      <th>Close</th>\n",
       "      <th>Open</th>\n",
       "      <th>High</th>\n",
       "      <th>Low</th>\n",
       "      <th>Volume</th>\n",
       "      <th>Change</th>\n",
       "    </tr>\n",
       "    <tr>\n",
       "      <th>Date</th>\n",
       "      <th></th>\n",
       "      <th></th>\n",
       "      <th></th>\n",
       "      <th></th>\n",
       "      <th></th>\n",
       "      <th></th>\n",
       "    </tr>\n",
       "  </thead>\n",
       "  <tbody>\n",
       "    <tr>\n",
       "      <th>2021-01-04</th>\n",
       "      <td>370.22</td>\n",
       "      <td>376.69</td>\n",
       "      <td>376.82</td>\n",
       "      <td>366.16</td>\n",
       "      <td>7100000.0</td>\n",
       "      <td>-0.0138</td>\n",
       "    </tr>\n",
       "    <tr>\n",
       "      <th>2021-01-05</th>\n",
       "      <td>372.67</td>\n",
       "      <td>369.44</td>\n",
       "      <td>373.83</td>\n",
       "      <td>369.44</td>\n",
       "      <td>4310000.0</td>\n",
       "      <td>0.0066</td>\n",
       "    </tr>\n",
       "    <tr>\n",
       "      <th>2021-01-06</th>\n",
       "      <td>374.92</td>\n",
       "      <td>371.02</td>\n",
       "      <td>378.37</td>\n",
       "      <td>370.46</td>\n",
       "      <td>4340000.0</td>\n",
       "      <td>0.0060</td>\n",
       "    </tr>\n",
       "    <tr>\n",
       "      <th>2021-01-07</th>\n",
       "      <td>380.47</td>\n",
       "      <td>377.47</td>\n",
       "      <td>381.26</td>\n",
       "      <td>377.28</td>\n",
       "      <td>6050000.0</td>\n",
       "      <td>0.0148</td>\n",
       "    </tr>\n",
       "    <tr>\n",
       "      <th>2021-01-08</th>\n",
       "      <td>382.64</td>\n",
       "      <td>382.01</td>\n",
       "      <td>382.86</td>\n",
       "      <td>378.49</td>\n",
       "      <td>3400000.0</td>\n",
       "      <td>0.0057</td>\n",
       "    </tr>\n",
       "    <tr>\n",
       "      <th>2021-01-11</th>\n",
       "      <td>380.14</td>\n",
       "      <td>379.23</td>\n",
       "      <td>381.92</td>\n",
       "      <td>379.12</td>\n",
       "      <td>3370000.0</td>\n",
       "      <td>-0.0065</td>\n",
       "    </tr>\n",
       "    <tr>\n",
       "      <th>2021-01-12</th>\n",
       "      <td>380.20</td>\n",
       "      <td>380.20</td>\n",
       "      <td>381.23</td>\n",
       "      <td>377.77</td>\n",
       "      <td>3490000.0</td>\n",
       "      <td>0.0002</td>\n",
       "    </tr>\n",
       "    <tr>\n",
       "      <th>2021-01-13</th>\n",
       "      <td>381.16</td>\n",
       "      <td>380.12</td>\n",
       "      <td>382.24</td>\n",
       "      <td>379.24</td>\n",
       "      <td>3760000.0</td>\n",
       "      <td>0.0025</td>\n",
       "    </tr>\n",
       "    <tr>\n",
       "      <th>2021-01-14</th>\n",
       "      <td>379.84</td>\n",
       "      <td>381.96</td>\n",
       "      <td>382.53</td>\n",
       "      <td>379.43</td>\n",
       "      <td>7000000.0</td>\n",
       "      <td>-0.0035</td>\n",
       "    </tr>\n",
       "    <tr>\n",
       "      <th>2021-01-15</th>\n",
       "      <td>377.10</td>\n",
       "      <td>378.09</td>\n",
       "      <td>378.92</td>\n",
       "      <td>375.08</td>\n",
       "      <td>10180000.0</td>\n",
       "      <td>-0.0072</td>\n",
       "    </tr>\n",
       "  </tbody>\n",
       "</table>\n",
       "</div>"
      ],
      "text/plain": [
       "             Close    Open    High     Low      Volume  Change\n",
       "Date                                                          \n",
       "2021-01-04  370.22  376.69  376.82  366.16   7100000.0 -0.0138\n",
       "2021-01-05  372.67  369.44  373.83  369.44   4310000.0  0.0066\n",
       "2021-01-06  374.92  371.02  378.37  370.46   4340000.0  0.0060\n",
       "2021-01-07  380.47  377.47  381.26  377.28   6050000.0  0.0148\n",
       "2021-01-08  382.64  382.01  382.86  378.49   3400000.0  0.0057\n",
       "2021-01-11  380.14  379.23  381.92  379.12   3370000.0 -0.0065\n",
       "2021-01-12  380.20  380.20  381.23  377.77   3490000.0  0.0002\n",
       "2021-01-13  381.16  380.12  382.24  379.24   3760000.0  0.0025\n",
       "2021-01-14  379.84  381.96  382.53  379.43   7000000.0 -0.0035\n",
       "2021-01-15  377.10  378.09  378.92  375.08  10180000.0 -0.0072"
      ]
     },
     "execution_count": 6,
     "metadata": {},
     "output_type": "execute_result"
    }
   ],
   "source": [
    "df = fdr.DataReader('IVV',\"2021\")\n",
    "df.head(10)"
   ]
  },
  {
   "cell_type": "code",
   "execution_count": null,
   "id": "a8fc2c5b-4e83-4854-b6e4-ece2a433bcb9",
   "metadata": {},
   "outputs": [],
   "source": []
  },
  {
   "cell_type": "markdown",
   "id": "0923b5cb-3f48-4e34-993b-5192ad725489",
   "metadata": {},
   "source": [
    "# Stratege 1: Dual Momentum(할 수 있다! 퀀트투자 - 강환국)\n",
    "- S&P500, EuroStoxx, Nikkei, KOSPI 중 최근 6개월 간 가장 많이 상승한 지수 추종 ETF투자\n",
    "- 4개 지수 모두 6개월 수익률이 예금금리 이하로 하락하면 모든 ETF 매도, 현금 보유\n",
    "- 월 1회 리벨런싱\n",
    "\n",
    "## 티커\n",
    "\n",
    "- S&P500: TIGER 미국S&P500선물(H) - 143850\n",
    "- EuroStoxx: TIGER 유로스탁스50(합성 H) - 195930\n",
    "- Nikkei: TIGER 일본니케이225 - 241180\n",
    "- KOSPI: KODEX200 - 069500"
   ]
  },
  {
   "cell_type": "code",
   "execution_count": 7,
   "id": "e1f300f5-b55d-49e7-ad90-b4e692e9c433",
   "metadata": {},
   "outputs": [],
   "source": [
    "import FinanceDataReader as fdr\n",
    "import matplotlib.pyplot as plt"
   ]
  },
  {
   "cell_type": "code",
   "execution_count": 8,
   "id": "049654da-35d7-4d7a-bd91-07d859197c9a",
   "metadata": {},
   "outputs": [],
   "source": [
    "def normalize(data):\n",
    "    return data / data[0]"
   ]
  },
  {
   "cell_type": "code",
   "execution_count": 9,
   "id": "6aa8023b-0fd5-4f13-8c4a-66a17655c92b",
   "metadata": {},
   "outputs": [],
   "source": [
    "def from_six_month_before(df):\n",
    "    six_month_before = pd.to_datetime(\"today\") - pd.Timedelta(\"180 days\")\n",
    "    return df.loc[six_month_before:]"
   ]
  },
  {
   "cell_type": "code",
   "execution_count": 10,
   "id": "4ca446d8-2406-42b5-9fb8-47088d7fc353",
   "metadata": {},
   "outputs": [],
   "source": [
    "year = \"2021\"\n",
    "\n",
    "kospi = fdr.DataReader('069500', year)\n",
    "sp500 = fdr.DataReader('143850', year)\n",
    "nikkei = fdr.DataReader('241180', year)\n",
    "euro = fdr.DataReader('195930', year)"
   ]
  },
  {
   "cell_type": "code",
   "execution_count": 11,
   "id": "a3008677-933f-44f8-aec8-fc052deea08a",
   "metadata": {},
   "outputs": [],
   "source": [
    "kospi = from_six_month_before(kospi)\n",
    "sp500 = from_six_month_before(sp500)\n",
    "nikkei = from_six_month_before(nikkei)\n",
    "euro = from_six_month_before(euro)"
   ]
  },
  {
   "cell_type": "code",
   "execution_count": 12,
   "id": "9344fd88-64c8-4183-8b4e-8605d52b0438",
   "metadata": {},
   "outputs": [],
   "source": [
    "rate = 1.008"
   ]
  },
  {
   "cell_type": "code",
   "execution_count": 13,
   "id": "73e4a16e-e0f8-4c37-b56d-773a21174ec2",
   "metadata": {},
   "outputs": [
    {
     "name": "stderr",
     "output_type": "stream",
     "text": [
      "findfont: Font family ['nanummyeongjo'] not found. Falling back to DejaVu Sans.\n"
     ]
    },
    {
     "data": {
      "image/png": "[encoded data removed]",
      "text/plain": [
       "<Figure size 1008x288 with 1 Axes>"
      ]
     },
     "metadata": {
      "needs_background": "light"
     },
     "output_type": "display_data"
    }
   ],
   "source": [
    "plt.plot(kospi.index, normalize(kospi[\"Open\"]))\n",
    "plt.plot(kospi.index, normalize(sp500[\"Open\"]))\n",
    "plt.plot(kospi.index, normalize(euro[\"Open\"]))\n",
    "plt.plot(kospi.index, normalize(nikkei[\"Open\"]))\n",
    "\n",
    "plt.plot([ pd.to_datetime(\"today\") - pd.Timedelta(\"180 days\"), pd.to_datetime(\"today\")], [rate, rate])\n",
    "\n",
    "plt.title(\"6 months return by index\")\n",
    "plt.legend([\"KOSPI\", \"S&P500\", \"EUROSTOXX\", \"NIKKEI\", \"Deposit Rate\"])\n",
    "\n",
    "plt.show()\n",
    "plt.close()"
   ]
  },
  {
   "cell_type": "code",
   "execution_count": null,
   "id": "5f324608-0f89-4d29-b3c6-f5e954cce5ff",
   "metadata": {},
   "outputs": [],
   "source": []
  }
 ],
 "metadata": {
  "kernelspec": {
   "display_name": "Python 3 (ipykernel)",
   "language": "python",
   "name": "python3"
  },
  "language_info": {
   "codemirror_mode": {
    "name": "ipython",
    "version": 3
   },
   "file_extension": ".py",
   "mimetype": "text/x-python",
   "name": "python",
   "nbconvert_exporter": "python",
   "pygments_lexer": "ipython3",
   "version": "3.8.2"
  }
 },
 "nbformat": 4,
 "nbformat_minor": 5
}
